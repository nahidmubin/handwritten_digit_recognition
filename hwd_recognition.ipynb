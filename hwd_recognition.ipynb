{
 "cells": [
  {
   "cell_type": "code",
   "execution_count": 1,
   "metadata": {},
   "outputs": [],
   "source": [
    "import numpy as np\n",
    "import pandas as pd #For loading the dataset only\n",
    "from matplotlib import pyplot as plt #For plotting data into image"
   ]
  },
  {
   "cell_type": "code",
   "execution_count": 2,
   "metadata": {},
   "outputs": [
    {
     "data": {
      "text/html": [
       "<div>\n",
       "<style scoped>\n",
       "    .dataframe tbody tr th:only-of-type {\n",
       "        vertical-align: middle;\n",
       "    }\n",
       "\n",
       "    .dataframe tbody tr th {\n",
       "        vertical-align: top;\n",
       "    }\n",
       "\n",
       "    .dataframe thead th {\n",
       "        text-align: right;\n",
       "    }\n",
       "</style>\n",
       "<table border=\"1\" class=\"dataframe\">\n",
       "  <thead>\n",
       "    <tr style=\"text-align: right;\">\n",
       "      <th></th>\n",
       "      <th>label</th>\n",
       "      <th>pixel0</th>\n",
       "      <th>pixel1</th>\n",
       "      <th>pixel2</th>\n",
       "      <th>pixel3</th>\n",
       "      <th>pixel4</th>\n",
       "      <th>pixel5</th>\n",
       "      <th>pixel6</th>\n",
       "      <th>pixel7</th>\n",
       "      <th>pixel8</th>\n",
       "      <th>...</th>\n",
       "      <th>pixel774</th>\n",
       "      <th>pixel775</th>\n",
       "      <th>pixel776</th>\n",
       "      <th>pixel777</th>\n",
       "      <th>pixel778</th>\n",
       "      <th>pixel779</th>\n",
       "      <th>pixel780</th>\n",
       "      <th>pixel781</th>\n",
       "      <th>pixel782</th>\n",
       "      <th>pixel783</th>\n",
       "    </tr>\n",
       "  </thead>\n",
       "  <tbody>\n",
       "    <tr>\n",
       "      <th>0</th>\n",
       "      <td>1</td>\n",
       "      <td>0</td>\n",
       "      <td>0</td>\n",
       "      <td>0</td>\n",
       "      <td>0</td>\n",
       "      <td>0</td>\n",
       "      <td>0</td>\n",
       "      <td>0</td>\n",
       "      <td>0</td>\n",
       "      <td>0</td>\n",
       "      <td>...</td>\n",
       "      <td>0</td>\n",
       "      <td>0</td>\n",
       "      <td>0</td>\n",
       "      <td>0</td>\n",
       "      <td>0</td>\n",
       "      <td>0</td>\n",
       "      <td>0</td>\n",
       "      <td>0</td>\n",
       "      <td>0</td>\n",
       "      <td>0</td>\n",
       "    </tr>\n",
       "    <tr>\n",
       "      <th>1</th>\n",
       "      <td>0</td>\n",
       "      <td>0</td>\n",
       "      <td>0</td>\n",
       "      <td>0</td>\n",
       "      <td>0</td>\n",
       "      <td>0</td>\n",
       "      <td>0</td>\n",
       "      <td>0</td>\n",
       "      <td>0</td>\n",
       "      <td>0</td>\n",
       "      <td>...</td>\n",
       "      <td>0</td>\n",
       "      <td>0</td>\n",
       "      <td>0</td>\n",
       "      <td>0</td>\n",
       "      <td>0</td>\n",
       "      <td>0</td>\n",
       "      <td>0</td>\n",
       "      <td>0</td>\n",
       "      <td>0</td>\n",
       "      <td>0</td>\n",
       "    </tr>\n",
       "    <tr>\n",
       "      <th>2</th>\n",
       "      <td>1</td>\n",
       "      <td>0</td>\n",
       "      <td>0</td>\n",
       "      <td>0</td>\n",
       "      <td>0</td>\n",
       "      <td>0</td>\n",
       "      <td>0</td>\n",
       "      <td>0</td>\n",
       "      <td>0</td>\n",
       "      <td>0</td>\n",
       "      <td>...</td>\n",
       "      <td>0</td>\n",
       "      <td>0</td>\n",
       "      <td>0</td>\n",
       "      <td>0</td>\n",
       "      <td>0</td>\n",
       "      <td>0</td>\n",
       "      <td>0</td>\n",
       "      <td>0</td>\n",
       "      <td>0</td>\n",
       "      <td>0</td>\n",
       "    </tr>\n",
       "    <tr>\n",
       "      <th>3</th>\n",
       "      <td>4</td>\n",
       "      <td>0</td>\n",
       "      <td>0</td>\n",
       "      <td>0</td>\n",
       "      <td>0</td>\n",
       "      <td>0</td>\n",
       "      <td>0</td>\n",
       "      <td>0</td>\n",
       "      <td>0</td>\n",
       "      <td>0</td>\n",
       "      <td>...</td>\n",
       "      <td>0</td>\n",
       "      <td>0</td>\n",
       "      <td>0</td>\n",
       "      <td>0</td>\n",
       "      <td>0</td>\n",
       "      <td>0</td>\n",
       "      <td>0</td>\n",
       "      <td>0</td>\n",
       "      <td>0</td>\n",
       "      <td>0</td>\n",
       "    </tr>\n",
       "    <tr>\n",
       "      <th>4</th>\n",
       "      <td>0</td>\n",
       "      <td>0</td>\n",
       "      <td>0</td>\n",
       "      <td>0</td>\n",
       "      <td>0</td>\n",
       "      <td>0</td>\n",
       "      <td>0</td>\n",
       "      <td>0</td>\n",
       "      <td>0</td>\n",
       "      <td>0</td>\n",
       "      <td>...</td>\n",
       "      <td>0</td>\n",
       "      <td>0</td>\n",
       "      <td>0</td>\n",
       "      <td>0</td>\n",
       "      <td>0</td>\n",
       "      <td>0</td>\n",
       "      <td>0</td>\n",
       "      <td>0</td>\n",
       "      <td>0</td>\n",
       "      <td>0</td>\n",
       "    </tr>\n",
       "  </tbody>\n",
       "</table>\n",
       "<p>5 rows × 785 columns</p>\n",
       "</div>"
      ],
      "text/plain": [
       "   label  pixel0  pixel1  pixel2  pixel3  pixel4  pixel5  pixel6  pixel7  \\\n",
       "0      1       0       0       0       0       0       0       0       0   \n",
       "1      0       0       0       0       0       0       0       0       0   \n",
       "2      1       0       0       0       0       0       0       0       0   \n",
       "3      4       0       0       0       0       0       0       0       0   \n",
       "4      0       0       0       0       0       0       0       0       0   \n",
       "\n",
       "   pixel8  ...  pixel774  pixel775  pixel776  pixel777  pixel778  pixel779  \\\n",
       "0       0  ...         0         0         0         0         0         0   \n",
       "1       0  ...         0         0         0         0         0         0   \n",
       "2       0  ...         0         0         0         0         0         0   \n",
       "3       0  ...         0         0         0         0         0         0   \n",
       "4       0  ...         0         0         0         0         0         0   \n",
       "\n",
       "   pixel780  pixel781  pixel782  pixel783  \n",
       "0         0         0         0         0  \n",
       "1         0         0         0         0  \n",
       "2         0         0         0         0  \n",
       "3         0         0         0         0  \n",
       "4         0         0         0         0  \n",
       "\n",
       "[5 rows x 785 columns]"
      ]
     },
     "execution_count": 2,
     "metadata": {},
     "output_type": "execute_result"
    }
   ],
   "source": [
    "#load the Dataset from CSV file\n",
    "full_dataset = pd.read_csv('./mnist_dataset/train.csv')\n",
    "full_dataset.head()"
   ]
  },
  {
   "cell_type": "code",
   "execution_count": 3,
   "metadata": {},
   "outputs": [],
   "source": [
    "#Convert dataset to numpy array for further calculations\n",
    "full_dataset = np.array(full_dataset)\n",
    "np.random.shuffle(full_dataset) #Shuffling the dataset to get random example"
   ]
  },
  {
   "cell_type": "code",
   "execution_count": 4,
   "metadata": {},
   "outputs": [],
   "source": [
    "def get_X_and_Y(full_dataset, example_2_use, split_ratio ):\n",
    "\n",
    "    data = full_dataset[:example_2_use, :].T\n",
    "    Y = data[0]\n",
    "    X = data[1:,]\n",
    "\n",
    "    #Normalize the values of X by dividing the maximum value of X so that the values ranges from 0 to 1\n",
    "    X_normalized = X / 255.\n",
    "\n",
    "    split_index = int(example_2_use * split_ratio)\n",
    "\n",
    "    Y_train = Y[: split_index]\n",
    "    Y_test = Y[split_index : ]\n",
    "\n",
    "    X_train = X_normalized[:, : split_index]\n",
    "    X_test = X_normalized[:, split_index :]\n",
    "\n",
    "    return X_train, Y_train, X_test, Y_test"
   ]
  },
  {
   "cell_type": "code",
   "execution_count": 5,
   "metadata": {},
   "outputs": [],
   "source": [
    "def initialize_weights_and_bias():\n",
    "    W1 = np.random.rand(15, 784) - .5\n",
    "    b1 = np.random.rand(15, 1) - .5\n",
    "\n",
    "    W2 = np.random.rand(10, 15) - .5\n",
    "    b2 = np.random.rand(10, 1) - .5\n",
    "\n",
    "    return W1, b1, W2, b2"
   ]
  },
  {
   "cell_type": "code",
   "execution_count": 6,
   "metadata": {},
   "outputs": [],
   "source": [
    "def relu(Z):\n",
    "    return np.maximum(Z, 0)"
   ]
  },
  {
   "cell_type": "code",
   "execution_count": 7,
   "metadata": {},
   "outputs": [],
   "source": [
    "def softmax(Z):\n",
    "    return np.exp(Z) / np.sum(np.exp(Z), axis=0)"
   ]
  },
  {
   "cell_type": "code",
   "execution_count": 8,
   "metadata": {},
   "outputs": [],
   "source": [
    "def forward_propagation(W1, b1, W2, b2, X):\n",
    "    \n",
    "    Z1 = np.matmul(W1, X) + b1\n",
    "    A1 = relu(Z1)\n",
    "    Z2 = np.matmul(W2, A1) + b2\n",
    "    A2 = softmax(Z2)\n",
    "\n",
    "    return Z1, A1, Z2, A2"
   ]
  },
  {
   "cell_type": "code",
   "execution_count": 9,
   "metadata": {},
   "outputs": [],
   "source": [
    "def one_hot_Y(Y):\n",
    "    Y_encoded = np.zeros((10, 700), dtype=int)\n",
    "\n",
    "    for index, val in enumerate(Y):\n",
    "        Y_encoded[val, index] = 1\n",
    "\n",
    "    return Y_encoded"
   ]
  },
  {
   "cell_type": "code",
   "execution_count": 10,
   "metadata": {},
   "outputs": [],
   "source": [
    "def relu_derivative(Z):\n",
    "    return Z > 0"
   ]
  },
  {
   "cell_type": "code",
   "execution_count": 11,
   "metadata": {},
   "outputs": [],
   "source": [
    "def backpropagation(Z1, A1, A2, W2, X, Y):\n",
    "    Y_encoded = one_hot_Y(Y)\n",
    "    _ , m = Y_encoded.shape\n",
    "\n",
    "    #Calculation for the output layer\n",
    "    error = A2 - Y_encoded\n",
    "    dJ_dW2 = np.matmul(error, A1.T) / m\n",
    "    dJ_db2 = np.sum(error, axis=1, keepdims=True) / m\n",
    "\n",
    "    #Calculation for the hidden layer\n",
    "    dJ_dA1 = np.matmul(W2.T, error)\n",
    "    dA1_dZ1 = relu_derivative(Z1)\n",
    "    dJ_dZ1 = dA1_dZ1 * dJ_dA1\n",
    "\n",
    "    dJ_dW1 = np.matmul(dJ_dZ1, X.T) / m\n",
    "    dJ_db1 = np.sum(dJ_dZ1, axis=1, keepdims=True) / m\n",
    "\n",
    "    return dJ_dW1, dJ_db1, dJ_dW2, dJ_db2"
   ]
  },
  {
   "cell_type": "code",
   "execution_count": 12,
   "metadata": {},
   "outputs": [],
   "source": [
    "def update_weights_and_bias(W1, b1, W2, b2, dJ_dW1, dJ_db1, dJ_dW2, dJ_db2, alpha):\n",
    "    W1 = W1 - alpha * dJ_dW1\n",
    "    b1 = b1 - alpha * dJ_db1\n",
    "\n",
    "    W2 = W2 - alpha * dJ_dW2\n",
    "    b2 = b2 - alpha * dJ_db2\n",
    "\n",
    "    return W1, b1, W2, b2"
   ]
  },
  {
   "cell_type": "code",
   "execution_count": 13,
   "metadata": {},
   "outputs": [],
   "source": [
    "def predict(A2):\n",
    "    return np.argmax(A2, axis=0)\n",
    "\n",
    "def calculate_accuracy(prediction, Y):\n",
    "    return np.sum(prediction == Y) / Y.size"
   ]
  },
  {
   "cell_type": "code",
   "execution_count": 14,
   "metadata": {},
   "outputs": [],
   "source": [
    "def gradient_descent(X_train, Y_train, iterations, alpha):\n",
    "    W1, b1, W2, b2 = initialize_weights_and_bias()\n",
    "\n",
    "    for i in range(iterations):\n",
    "        Z1, A1, Z2, A2 = forward_propagation(W1, b1, W2, b2, X_train)\n",
    "        dJ_dW1, dJ_db1, dJ_dW2, dJ_db2 = backpropagation(Z1, A1, A2, W2, X_train, Y_train)\n",
    "        W1, b1, W2, b2 = update_weights_and_bias(W1, b1, W2, b2, dJ_dW1, dJ_db1, dJ_dW2, dJ_db2, alpha)\n",
    "\n",
    "        if i%100 == 0:\n",
    "            print(\"Iteration: \", i)\n",
    "            prediction = predict(A2)\n",
    "            accuracy = calculate_accuracy(prediction, Y_train)\n",
    "            print(\"Training Accuracy: \", accuracy)\n",
    "\n",
    "    return W1, b1, W2, b2"
   ]
  },
  {
   "cell_type": "code",
   "execution_count": 15,
   "metadata": {},
   "outputs": [
    {
     "name": "stdout",
     "output_type": "stream",
     "text": [
      "Iteration:  0\n",
      "Training Accuracy:  0.07428571428571429\n",
      "Iteration:  100\n",
      "Training Accuracy:  0.7528571428571429\n",
      "Iteration:  200\n",
      "Training Accuracy:  0.8542857142857143\n",
      "Iteration:  300\n",
      "Training Accuracy:  0.9057142857142857\n",
      "Iteration:  400\n",
      "Training Accuracy:  0.9371428571428572\n",
      "Iteration:  500\n",
      "Training Accuracy:  0.9528571428571428\n",
      "Iteration:  600\n",
      "Training Accuracy:  0.9685714285714285\n",
      "Iteration:  700\n",
      "Training Accuracy:  0.9785714285714285\n",
      "Iteration:  800\n",
      "Training Accuracy:  0.9842857142857143\n",
      "Iteration:  900\n",
      "Training Accuracy:  0.9857142857142858\n"
     ]
    }
   ],
   "source": [
    "X_train, Y_train, X_test, Y_test = get_X_and_Y(full_dataset, example_2_use=1000, split_ratio=0.7)\n",
    "\n",
    "W1, b1, W2, b2 = gradient_descent(X_train, Y_train, 1000, .1)"
   ]
  },
  {
   "cell_type": "code",
   "execution_count": 16,
   "metadata": {},
   "outputs": [
    {
     "name": "stdout",
     "output_type": "stream",
     "text": [
      "Accuracy on test set:  0.8433333333333334\n"
     ]
    }
   ],
   "source": [
    "def test_set_accuracy(W1, b1, W2, b2, X_test, Y_test):\n",
    "    _, _, _, A2 = forward_propagation(W1, b1, W2, b2, X_test)\n",
    "    prediction = predict(A2)\n",
    "    accuracy = calculate_accuracy(prediction, Y_test)\n",
    "\n",
    "    return accuracy\n",
    "\n",
    "test_accuracy = test_set_accuracy(W1, b1, W2, b2, X_test, Y_test)\n",
    "print(\"Accuracy on test set: \", test_accuracy)"
   ]
  },
  {
   "cell_type": "code",
   "execution_count": 17,
   "metadata": {},
   "outputs": [],
   "source": [
    "def demonstrate_prediction(index, W1, b1, W2, b2, X_test, Y_test):\n",
    "    X_single = X_test[:, index].reshape(-1,1)\n",
    "    label = Y_test[index]\n",
    "    _, _, _, A2 = forward_propagation(W1, b1, W2, b2, X_single)\n",
    "    prediction = predict(A2)\n",
    "\n",
    "    print(\"Prediction: \", prediction.item())\n",
    "    print(\"Actual Digit: \", label)\n",
    "\n",
    "    image = X_single.reshape((28,28)) * 255\n",
    "\n",
    "    plt.gray()\n",
    "    plt.imshow(image, interpolation='nearest')\n",
    "    plt.show()"
   ]
  },
  {
   "cell_type": "code",
   "execution_count": 23,
   "metadata": {},
   "outputs": [
    {
     "name": "stdout",
     "output_type": "stream",
     "text": [
      "Prediction:  2\n",
      "Actual Digit:  2\n"
     ]
    },
    {
     "data": {
      "image/png": "[encoded data removed]",
      "text/plain": [
       "<Figure size 640x480 with 1 Axes>"
      ]
     },
     "metadata": {},
     "output_type": "display_data"
    },
    {
     "name": "stdout",
     "output_type": "stream",
     "text": [
      "Prediction:  6\n",
      "Actual Digit:  6\n"
     ]
    },
    {
     "data": {
      "image/png": "[encoded data removed]",
      "text/plain": [
       "<Figure size 640x480 with 1 Axes>"
      ]
     },
     "metadata": {},
     "output_type": "display_data"
    },
    {
     "name": "stdout",
     "output_type": "stream",
     "text": [
      "Prediction:  7\n",
      "Actual Digit:  7\n"
     ]
    },
    {
     "data": {
      "image/png": "[encoded data removed]",
      "text/plain": [
       "<Figure size 640x480 with 1 Axes>"
      ]
     },
     "metadata": {},
     "output_type": "display_data"
    },
    {
     "name": "stdout",
     "output_type": "stream",
     "text": [
      "Prediction:  9\n",
      "Actual Digit:  9\n"
     ]
    },
    {
     "data": {
      "image/png": "[encoded data removed]",
      "text/plain": [
       "<Figure size 640x480 with 1 Axes>"
      ]
     },
     "metadata": {},
     "output_type": "display_data"
    },
    {
     "name": "stdout",
     "output_type": "stream",
     "text": [
      "Prediction:  0\n",
      "Actual Digit:  0\n"
     ]
    },
    {
     "data": {
      "image/png": "[encoded data removed]",
      "text/plain": [
       "<Figure size 640x480 with 1 Axes>"
      ]
     },
     "metadata": {},
     "output_type": "display_data"
    }
   ],
   "source": [
    "demonstrate_prediction(233, W1, b1, W2, b2, X_test, Y_test)\n",
    "demonstrate_prediction(68, W1, b1, W2, b2, X_test, Y_test)\n",
    "demonstrate_prediction(87, W1, b1, W2, b2, X_test, Y_test)\n",
    "demonstrate_prediction(84, W1, b1, W2, b2, X_test, Y_test)\n",
    "demonstrate_prediction(298, W1, b1, W2, b2, X_test, Y_test)"
   ]
  },
  {
   "cell_type": "code",
   "execution_count": null,
   "metadata": {},
   "outputs": [],
   "source": []
  }
 ],
 "metadata": {
  "kernelspec": {
   "display_name": "Python 3",
   "language": "python",
   "name": "python3"
  },
  "language_info": {
   "codemirror_mode": {
    "name": "ipython",
    "version": 3
   },
   "file_extension": ".py",
   "mimetype": "text/x-python",
   "name": "python",
   "nbconvert_exporter": "python",
   "pygments_lexer": "ipython3",
   "version": "3.12.6"
  }
 },
 "nbformat": 4,
 "nbformat_minor": 2
}
